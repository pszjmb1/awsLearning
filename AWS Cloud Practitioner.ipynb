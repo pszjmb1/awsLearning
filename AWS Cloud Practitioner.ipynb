{
 "cells": [
  {
   "cell_type": "markdown",
   "metadata": {
    "ExecuteTime": {
     "end_time": "2019-02-07T12:43:05.990696Z",
     "start_time": "2019-02-07T12:43:05.986729Z"
    }
   },
   "source": [
    "# Introduction\n",
    "Thoughts etc based on [AWS Cloud Practitioner curriculum](https://www.aws.training/learningobject/curriculum?id=27076)"
   ]
  },
  {
   "cell_type": "markdown",
   "metadata": {
    "ExecuteTime": {
     "end_time": "2019-02-09T15:22:07.812566Z",
     "start_time": "2019-02-09T15:22:07.810136Z"
    }
   },
   "source": [
    "- certificationWebsite = \"https://www.certmetrics.com/amazon/default.aspx\""
   ]
  },
  {
   "cell_type": "markdown",
   "metadata": {},
   "source": [
    "## Shuold be able to answer\n",
    "- What is AWS Cloud?\n",
    "- What is the AWS Cloud global infrastructure?\n",
    "- What are the key AWS services and their common usecases?\n",
    "- What are AWS Cloud architectural principles?\n",
    "- What are the security and compliance principles of AWS?\n",
    "- What is the shared security model?\n",
    "- What are the billing and pricing models?\n",
    "- How does account management work?\n",
    "- Where are docs and support located?\n",
    "- What's the AWS value proposition?\n",
    "- What are the core characteristics of deploying and operating in AWS?"
   ]
  },
  {
   "cell_type": "markdown",
   "metadata": {},
   "source": [
    "## Content modules\n",
    "1. AWS Cloud concepts\n",
    "2. AWS Cloud core services\n",
    "3. AWS Cloud security\n",
    "4. AWS Cloud Architecting\n",
    "5. Pricing and support"
   ]
  },
  {
   "cell_type": "markdown",
   "metadata": {
    "ExecuteTime": {
     "end_time": "2019-02-09T15:28:16.710038Z",
     "start_time": "2019-02-09T15:28:16.704995Z"
    }
   },
   "source": [
    "# Core services"
   ]
  },
  {
   "cell_type": "markdown",
   "metadata": {},
   "source": [
    "## Global Infrastructure\n",
    "- Regions\n",
    "- Availability zones\n",
    "- Edge locations"
   ]
  },
  {
   "cell_type": "markdown",
   "metadata": {},
   "source": [
    "## Virtual Private Cloud"
   ]
  },
  {
   "cell_type": "markdown",
   "metadata": {},
   "source": [
    "## Security Groups"
   ]
  },
  {
   "cell_type": "markdown",
   "metadata": {},
   "source": [
    "## Compute\n",
    "- Servers\n",
    "- Lambda - event-driven, serverless computing platform\n",
    "- Lightsail - Virtual Private Server (VPS)\n",
    "- EC2 containers"
   ]
  },
  {
   "cell_type": "markdown",
   "metadata": {},
   "source": [
    "## EC2\n",
    "- Amazon Machine Instance (AMI)\n",
    "- Instance type = HW\n",
    "- Default user = ect-user\n",
    "- In putty: ssh-auth; requires plk in Windows"
   ]
  },
  {
   "cell_type": "markdown",
   "metadata": {},
   "source": [
    "## AWS Lambda\n",
    "- nodejs; python; c#; java\n",
    "- serverless and microservices\n",
    "- event driven computing\n",
    "- HTTP requests\n",
    "- sdk\n",
    "- Usecases\n",
    "    + Automated backups\n",
    "    + Processing data\n",
    "    + event based log analysis\n",
    "    + upload to S3\n",
    "    + serverless websites\n",
    "    + Kinesis data streams -> lambda -> DynamoDB"
   ]
  },
  {
   "cell_type": "markdown",
   "metadata": {},
   "source": [
    "## Elastic Beanstalk\n",
    "- Platform as a service"
   ]
  },
  {
   "cell_type": "markdown",
   "metadata": {},
   "source": [
    "## Application load balancer"
   ]
  },
  {
   "cell_type": "markdown",
   "metadata": {},
   "source": [
    "## Elastic load balancer"
   ]
  },
  {
   "cell_type": "markdown",
   "metadata": {},
   "source": [
    "## Autoscaling\n",
    "- Use Cloudwatch\n",
    "- How can I meet fluctuating performance requirements? -- Scalability\n",
    "- How can I automate EC2 resource provisioning on demand? Automate as much as possible\n",
    "- Scaling out/in\n",
    "- What: Launch config\n",
    "- Where: Auto scaling group\n",
    "- When: Auto scaling policy"
   ]
  },
  {
   "cell_type": "markdown",
   "metadata": {},
   "source": [
    "## Elastic Block Store (ELB)\n",
    "- Use tags for billing\n",
    "- Mount and unmount in any EC2 instance in same availability zone"
   ]
  },
  {
   "cell_type": "markdown",
   "metadata": {},
   "source": [
    "## S3\n",
    "- App assets, static web hosting, backup and disaster recovery\n",
    "- Staging area for big data"
   ]
  },
  {
   "cell_type": "markdown",
   "metadata": {},
   "source": [
    "## Glacier\n",
    "- Cheap\n",
    "- For low access archival strage"
   ]
  },
  {
   "cell_type": "markdown",
   "metadata": {},
   "source": [
    "## Relational Database Service (RDS)\n",
    "- DB instances\n",
    "- Read replicas"
   ]
  },
  {
   "cell_type": "markdown",
   "metadata": {},
   "source": [
    "## DynamoDB\n",
    "- NoSQL DB\n",
    "- Online analytical processing (OLAP), for answering multi-dimensional analytical queries swiftly in computing"
   ]
  },
  {
   "cell_type": "markdown",
   "metadata": {},
   "source": [
    "## Redshift\n",
    "- Data warehouse\n",
    "- Columnar storage\n",
    "- Cluster"
   ]
  },
  {
   "cell_type": "markdown",
   "metadata": {},
   "source": [
    "## Aurora\n",
    "- MySQL and PostgreSQL-compatible relational database \n",
    "- Online transaction processing (OLTP) is where information systems facilitate and manage transaction-oriented applications, typically for data entry and retrieval transaction processing"
   ]
  },
  {
   "cell_type": "markdown",
   "metadata": {},
   "source": [
    "## Trusted advisor\n",
    "- Keep track of resources\n",
    "- Security\n",
    "- Fault tolerance\n",
    "- Performance\n",
    "- Cost optimisation"
   ]
  },
  {
   "cell_type": "markdown",
   "metadata": {},
   "source": [
    "# AWS Cloud Practitioner Essentials: Core Services"
   ]
  },
  {
   "cell_type": "markdown",
   "metadata": {},
   "source": [
    "- Compute\n",
    "- Storage\n",
    "- Databases\n",
    "- Networking\n",
    "- Security"
   ]
  },
  {
   "cell_type": "markdown",
   "metadata": {},
   "source": [
    "# Security best practices"
   ]
  },
  {
   "cell_type": "markdown",
   "metadata": {},
   "source": [
    "- Delete AWS root account access keys and use IAM\n",
    "- Activate multi-factor authentication\n",
    "- Give IAM users only the permissions they need\n",
    "- Use IAM groups\n",
    "- Apply an IAM password policy\n",
    "- Use roles for applications\n",
    "- Use roles instead of sharing credentials\n",
    "- Rotate credentials regularly\n",
    "- Remove unnecessary users and credentials\n",
    "- Use policy conditions for extra security\n",
    "- Monitor activity in your AWS account"
   ]
  },
  {
   "cell_type": "markdown",
   "metadata": {},
   "source": [
    "# Architecting"
   ]
  },
  {
   "cell_type": "markdown",
   "metadata": {},
   "source": [
    "## Well architecting framework five pillars\n",
    "### Operational excellence\n",
    "    + Perform operations as code\n",
    "        * Scripted/automation workload and infrastructure\n",
    "            - Consistent responses to events\n",
    "        * Automate documentation update process\n",
    "            - Annotations as input to operations code\n",
    "        * Frequence, small, reversible changes\n",
    "        * Refine procedures frequently\n",
    "        * Anticipate failures and learn from each one\n",
    "### Security\n",
    "    + Implement a strong id foundation\n",
    "        * Principle of least privilege\n",
    "            - \"Every program and every privileged user of the system should operate using the least amount of privilege necessary to complete the job\"\n",
    "        * Enforce seperation of duties\n",
    "    + Enable traceability\n",
    "    + Apply security at all layers -- defence in depth \n",
    "        * Edge network, virt. private cloud, subnet, load balancer, every instance, os, and application\n",
    "    + Automate security best practices\n",
    "    + Protect data in transit and at rest\n",
    "        * Classify data into sensitivity levels\n",
    "        * Reduce human direct access to data to reduce risk of loss\n",
    "    + Prepare for security events\n",
    "        * Institute an incident management process\n",
    "        * Run incidence response simulations\n",
    "### Reliability\n",
    "    + Test recovery procedures\n",
    "        * Test how system fails and recovery procedures\n",
    "        * Simulate failure pathways\n",
    "    + Automatically recover from failure \n",
    "        * Monitor for KPI trigger automation when threshold is breeched\n",
    "    + Scale horizontally\n",
    "        * Replace large resource with multiple small resources to reduce impact on system\n",
    "        * Distribute requests across multiple smaller resources to ensure they don't share common point of failure\n",
    "    + Stop guessing at capacity \n",
    "        * Monitor demand and use\n",
    "        * Automate addition and subtraction of resources\n",
    "    + Manage changes to automation configuration\n",
    "### Performance Efficiency\n",
    "    + Democratise advance technologies\n",
    "        * Develop services for the team to support advanced tech knowledge (e.g. media transcoding and machine learning)\n",
    "    + Go global quickly\n",
    "    + Use serverless architectures\n",
    "        * E.g. storage services can act as static websites, event services can host code\n",
    "        * Removes operational burden\n",
    "        * Lower transactional costs\n",
    "    + Experiment more options\n",
    "        * Quickly carry out comparative testing with different configurations\n",
    "    + Mechanical sympathy\n",
    "        * Best tech for what is trying to be achieved\n",
    "### Cost Optimization\n",
    "    + Consumption model\n",
    "        * Increase or decrease use based on business requirements (e.g. 8hrs of week of compute)\n",
    "    + Measure overall efficiency\n",
    "        * Business output of systems vs costs\n",
    "    + Analyse and attribute IT costs to business owners\n",
    "    + Use managed services -- lower cost per transactions"
   ]
  },
  {
   "cell_type": "markdown",
   "metadata": {
    "ExecuteTime": {
     "end_time": "2019-02-09T14:54:57.108099Z",
     "start_time": "2019-02-09T14:54:57.104796Z"
    },
    "hide_input": false
   },
   "source": [
    "## Fault tolerance"
   ]
  },
  {
   "cell_type": "markdown",
   "metadata": {},
   "source": [
    "- Fault tolerant\n",
    "    + Remain operational even when some components fail\n",
    "- High availability\n",
    "    + Downtime is minimised without human intervantion"
   ]
  },
  {
   "cell_type": "markdown",
   "metadata": {},
   "source": [
    "### High availability services\n",
    "- Elastic load balancers\n",
    "    + Distributes traffic amongst instances\n",
    "    + Can send metrics to cloudwatch\n",
    "- Elastic IP addresses\n",
    "    + Static IP addresses for cloud computing\n",
    "    + Mask failure by allowing swapping in replacement resources on failure\n",
    "- Amazon Route 53\n",
    "    + Authoritative DNS service\n",
    "- Auto scaling\n",
    "    + Launches or terminates instances based on specified conditions\n",
    "- Cloudwatch\n",
    "    + Managed monitoring service\n",
    "    + Create and use custom metrics"
   ]
  },
  {
   "cell_type": "markdown",
   "metadata": {},
   "source": [
    "### Fault tolerant tools\n",
    "+ Simple queue service\n",
    "    * Used as backbone of fault tolerant application\n",
    "    * Ensure queue is always available\n",
    "+ S3\n",
    "    * Built in redundancy\n",
    "+ Simple DB\n",
    "    * Scalable and highly available\n",
    "+ RDS\n",
    "    * Automated backups\n",
    "    * Snapshots\n",
    "    * Multi-AZ deployments"
   ]
  },
  {
   "cell_type": "markdown",
   "metadata": {
    "ExecuteTime": {
     "end_time": "2019-02-09T15:09:28.873859Z",
     "start_time": "2019-02-09T15:09:28.868530Z"
    }
   },
   "source": [
    "## Web hosting"
   ]
  },
  {
   "cell_type": "markdown",
   "metadata": {},
   "source": [
    "+ Cost effective\n",
    "    - On demand provisioning\n",
    "+ Scalable\n",
    "+ On-demand provisioning on testing/staging\n",
    "    * Can simulate traffic"
   ]
  },
  {
   "cell_type": "markdown",
   "metadata": {},
   "source": [
    "### Tools\n",
    "- Virt. Private Cloud\n",
    "- Route 53\n",
    "- CloudFront\n",
    "- Elastic load balancing\n",
    "- Firewall/AWS shield\n",
    "- Auto scaling\n",
    "- App servers/EC2 instances\n",
    "- ElstiCache\n",
    "- RDS/DynamoDB\n"
   ]
  },
  {
   "cell_type": "markdown",
   "metadata": {},
   "source": [
    "## Key Architectural Considerations\n"
   ]
  },
  {
   "cell_type": "markdown",
   "metadata": {},
   "source": [
    "- No more physical appliances\n",
    "- Firewalls everywhere\n",
    "- Consider multiple data centres\n",
    "    + Easily deply across many for availability and reliability\n",
    "- Consider host ephemeral and dynamic"
   ]
  },
  {
   "cell_type": "code",
   "execution_count": null,
   "metadata": {},
   "outputs": [],
   "source": []
  }
 ],
 "metadata": {
  "hide_input": false,
  "kernelspec": {
   "display_name": "Python 3",
   "language": "python",
   "name": "python3"
  },
  "language_info": {
   "codemirror_mode": {
    "name": "ipython",
    "version": 3
   },
   "file_extension": ".py",
   "mimetype": "text/x-python",
   "name": "python",
   "nbconvert_exporter": "python",
   "pygments_lexer": "ipython3",
   "version": "3.7.1"
  },
  "latex_envs": {
   "LaTeX_envs_menu_present": true,
   "autoclose": false,
   "autocomplete": true,
   "bibliofile": "biblio.bib",
   "cite_by": "apalike",
   "current_citInitial": 1,
   "eqLabelWithNumbers": true,
   "eqNumInitial": 1,
   "hotkeys": {
    "equation": "Ctrl-E",
    "itemize": "Ctrl-I"
   },
   "labels_anchors": false,
   "latex_user_defs": false,
   "report_style_numbering": false,
   "user_envs_cfg": false
  },
  "toc": {
   "base_numbering": 1,
   "nav_menu": {},
   "number_sections": true,
   "sideBar": true,
   "skip_h1_title": false,
   "title_cell": "Table of Contents",
   "title_sidebar": "Contents",
   "toc_cell": false,
   "toc_position": {},
   "toc_section_display": true,
   "toc_window_display": true
  },
  "varInspector": {
   "cols": {
    "lenName": 16,
    "lenType": 16,
    "lenVar": 40
   },
   "kernels_config": {
    "python": {
     "delete_cmd_postfix": "",
     "delete_cmd_prefix": "del ",
     "library": "var_list.py",
     "varRefreshCmd": "print(var_dic_list())"
    },
    "r": {
     "delete_cmd_postfix": ") ",
     "delete_cmd_prefix": "rm(",
     "library": "var_list.r",
     "varRefreshCmd": "cat(var_dic_list()) "
    }
   },
   "types_to_exclude": [
    "module",
    "function",
    "builtin_function_or_method",
    "instance",
    "_Feature"
   ],
   "window_display": false
  }
 },
 "nbformat": 4,
 "nbformat_minor": 2
}
